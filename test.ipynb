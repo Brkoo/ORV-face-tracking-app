{
 "cells": [
  {
   "cell_type": "markdown",
   "metadata": {},
   "source": [
    "## Nalaganje slik"
   ]
  },
  {
   "cell_type": "code",
   "execution_count": 3,
   "metadata": {},
   "outputs": [
    {
     "name": "stdout",
     "output_type": "stream",
     "text": [
      "Oblika barvne slike (numpy array) (733, 1100, 3)\n",
      "Oblika sivinske slike (numpy array) (733, 1100)\n",
      "Dimenzije slike (širina x višina): 1100 x 733\n"
     ]
    }
   ],
   "source": [
    "import cv2\n",
    "import numpy as np\n",
    "import matplotlib.pyplot as plt\n",
    "\n",
    "\n",
    "imgColor = cv2.imread('messi.jpg',1)\n",
    "imgGray = cv2.imread('messi.jpg',0)\n",
    "print(\"Oblika barvne slike (numpy array) {}\".format(imgColor.shape))\n",
    "print(\"Oblika sivinske slike (numpy array) {}\".format(imgGray.shape))\n",
    "\n",
    "(height, width, depth) = imgColor.shape\n",
    "print(\"Dimenzije slike (širina x višina): {} x {}\".format(width,height))\n",
    "#cv2.resize(imgColor,(imgColor.shape))\n",
    "\n",
    "cv2.namedWindow(\"Slika\")\n",
    "cv2.imshow(\"Slika\", imgColor)\n",
    "cv2.waitKey()\n",
    "cv2.destroyAllWindows()\n",
    "\n"
   ]
  },
  {
   "cell_type": "markdown",
   "metadata": {},
   "source": [
    "## Dostop do posameznih pikslov"
   ]
  },
  {
   "cell_type": "code",
   "execution_count": 5,
   "metadata": {},
   "outputs": [
    {
     "name": "stdout",
     "output_type": "stream",
     "text": [
      "Vrednost piksla [0,0] = [99 68 29]\n"
     ]
    }
   ],
   "source": [
    "x,y = 0,0\n",
    "px = imgColor[x,y]\n",
    "print(\"Vrednost piksla [{},{}] = {}\".format(x,y,px))"
   ]
  },
  {
   "cell_type": "markdown",
   "metadata": {},
   "source": [
    "## Dostop do posamične barve"
   ]
  },
  {
   "cell_type": "code",
   "execution_count": 6,
   "metadata": {},
   "outputs": [
    {
     "name": "stdout",
     "output_type": "stream",
     "text": [
      "Modra vrednost piksla na [0,0] = 99\n",
      "Zelena vrednost piksla na [0,0] = 68\n",
      "Rdeča vrednost piksla na [0,0] = 29\n"
     ]
    }
   ],
   "source": [
    "blue  =  imgColor[x,y,0]\n",
    "green =  imgColor[x,y,1]\n",
    "red   =  imgColor[x,y,2]\n",
    "print(\"Modra vrednost piksla na [{},{}] = {}\".format(x,y,blue))\n",
    "print(\"Zelena vrednost piksla na [{},{}] = {}\".format(x,y,green))\n",
    "print(\"Rdeča vrednost piksla na [{},{}] = {}\".format(x,y,red))"
   ]
  },
  {
   "cell_type": "markdown",
   "metadata": {},
   "source": [
    "## Spreminjanje vrednosti kanalov v barvnih slikah"
   ]
  },
  {
   "cell_type": "code",
   "execution_count": 7,
   "metadata": {},
   "outputs": [
    {
     "name": "stdout",
     "output_type": "stream",
     "text": [
      "[255   0   0]\n",
      "[255   0 128]\n"
     ]
    }
   ],
   "source": [
    "px = [255,0,0]\n",
    "imgColor[1,1] = px\n",
    "\n",
    "print(imgColor[1,1])\n",
    "\n",
    "imgColor[1,1,2] = 128\n",
    "\n",
    "print(imgColor[1,1])\n"
   ]
  },
  {
   "cell_type": "markdown",
   "metadata": {},
   "source": [
    "## Shranjevanje slike na disk"
   ]
  },
  {
   "cell_type": "code",
   "execution_count": null,
   "metadata": {},
   "outputs": [],
   "source": [
    "cv2.imwrite(\"shranjena.png\",imgColor)"
   ]
  },
  {
   "cell_type": "markdown",
   "metadata": {},
   "source": [
    "## Zajem iz kamere"
   ]
  },
  {
   "cell_type": "code",
   "execution_count": 4,
   "metadata": {},
   "outputs": [],
   "source": [
    "import cv2\n",
    "cap = cv2.VideoCapture(0)\n",
    "\n",
    "if cap.isOpened() == False:\n",
    "    print(\"Ne morem odpreti kamere\")\n",
    "    \n",
    "cv2.namedWindow(\"Kamera\")\n",
    "while True:\n",
    "    ret, frame = cap.read()\n",
    "    if ret == True:\n",
    "        cv2.imshow(\"Kamera\",frame)\n",
    "        if cv2.waitKey(10) & 0xFF == ord('q'):\n",
    "            break\n",
    "    else:\n",
    "        break\n",
    "cap.release()\n",
    "cv2.destroyAllWindows()"
   ]
  },
  {
   "cell_type": "code",
   "execution_count": 1,
   "metadata": {},
   "outputs": [
    {
     "name": "stdout",
     "output_type": "stream",
     "text": [
      "['EVENT_FLAG_ALTKEY', 'EVENT_FLAG_CTRLKEY', 'EVENT_FLAG_LBUTTON', 'EVENT_FLAG_MBUTTON', 'EVENT_FLAG_RBUTTON', 'EVENT_FLAG_SHIFTKEY', 'EVENT_LBUTTONDBLCLK', 'EVENT_LBUTTONDOWN', 'EVENT_LBUTTONUP', 'EVENT_MBUTTONDBLCLK', 'EVENT_MBUTTONDOWN', 'EVENT_MBUTTONUP', 'EVENT_MOUSEHWHEEL', 'EVENT_MOUSEMOVE', 'EVENT_MOUSEWHEEL', 'EVENT_RBUTTONDBLCLK', 'EVENT_RBUTTONDOWN', 'EVENT_RBUTTONUP']\n"
     ]
    },
    {
     "ename": "NameError",
     "evalue": "name 'imgColor' is not defined",
     "output_type": "error",
     "traceback": [
      "\u001b[1;31m---------------------------------------------------------------------------\u001b[0m",
      "\u001b[1;31mNameError\u001b[0m                                 Traceback (most recent call last)",
      "\u001b[1;32mc:\\FERI4_semestrer\\OSNOVE RACUALNCISKEGA VIDA\\Karlo_Horvat_Vaja1\\ORV-face-tracking-app\\test.ipynb Cell 13'\u001b[0m in \u001b[0;36m<cell line: 11>\u001b[1;34m()\u001b[0m\n\u001b[0;32m      <a href='vscode-notebook-cell:/c%3A/FERI4_semestrer/OSNOVE%20RACUALNCISKEGA%20VIDA/Karlo_Horvat_Vaja1/ORV-face-tracking-app/test.ipynb#ch0000012?line=7'>8</a>\u001b[0m         \u001b[39mprint\u001b[39m(\u001b[39m\"\u001b[39m\u001b[39mKlik na poziciji (\u001b[39m\u001b[39m{}\u001b[39;00m\u001b[39m,\u001b[39m\u001b[39m{}\u001b[39;00m\u001b[39m)\u001b[39m\u001b[39m\"\u001b[39m\u001b[39m.\u001b[39mformat(x,y))\n\u001b[0;32m     <a href='vscode-notebook-cell:/c%3A/FERI4_semestrer/OSNOVE%20RACUALNCISKEGA%20VIDA/Karlo_Horvat_Vaja1/ORV-face-tracking-app/test.ipynb#ch0000012?line=9'>10</a>\u001b[0m cv2\u001b[39m.\u001b[39mnamedWindow(\u001b[39m\"\u001b[39m\u001b[39mSlika\u001b[39m\u001b[39m\"\u001b[39m)\n\u001b[1;32m---> <a href='vscode-notebook-cell:/c%3A/FERI4_semestrer/OSNOVE%20RACUALNCISKEGA%20VIDA/Karlo_Horvat_Vaja1/ORV-face-tracking-app/test.ipynb#ch0000012?line=10'>11</a>\u001b[0m cv2\u001b[39m.\u001b[39mimshow(\u001b[39m\"\u001b[39m\u001b[39mSlika\u001b[39m\u001b[39m\"\u001b[39m, imgColor)\n\u001b[0;32m     <a href='vscode-notebook-cell:/c%3A/FERI4_semestrer/OSNOVE%20RACUALNCISKEGA%20VIDA/Karlo_Horvat_Vaja1/ORV-face-tracking-app/test.ipynb#ch0000012?line=12'>13</a>\u001b[0m cv2\u001b[39m.\u001b[39msetMouseCallback(\u001b[39m\"\u001b[39m\u001b[39mSlika\u001b[39m\u001b[39m\"\u001b[39m, clickImage)\n\u001b[0;32m     <a href='vscode-notebook-cell:/c%3A/FERI4_semestrer/OSNOVE%20RACUALNCISKEGA%20VIDA/Karlo_Horvat_Vaja1/ORV-face-tracking-app/test.ipynb#ch0000012?line=13'>14</a>\u001b[0m cv2\u001b[39m.\u001b[39mwaitKey(\u001b[39m0\u001b[39m)\n",
      "\u001b[1;31mNameError\u001b[0m: name 'imgColor' is not defined"
     ]
    }
   ],
   "source": [
    "import cv2\n",
    "events = [i for i in dir(cv2) if 'EVENT' in i]\n",
    "print(events)\n",
    "\n",
    "\n",
    "def clickImage(event, x, y, flags, param):\n",
    "    if event == cv2.EVENT_LBUTTONDBLCLK:\n",
    "        print(\"Klik na poziciji ({},{})\".format(x,y))\n",
    "        \n",
    "cv2.namedWindow(\"Slika\")\n",
    "cv2.imshow(\"Slika\", imgColor)\n",
    "\n",
    "cv2.setMouseCallback(\"Slika\", clickImage)\n",
    "cv2.waitKey(0)\n",
    "cv2.destroyAllWindows()"
   ]
  },
  {
   "cell_type": "markdown",
   "metadata": {},
   "source": [
    "## Risanje na sliko"
   ]
  },
  {
   "cell_type": "code",
   "execution_count": null,
   "metadata": {},
   "outputs": [],
   "source": [
    "imgDraw = np.zeros(imgColor.shape, np.uint8)\n",
    "imgDraw = cv2.circle(imgDraw,(200,200),30,(255,0,0),3)\n",
    "final = imgColor | imgDraw # cv2.add(s1,s2)\n",
    "cv2.imshow(\"Risanje\", final)\n",
    "cv2.waitKey()\n",
    "cv2.destroyAllWindows()"
   ]
  },
  {
   "cell_type": "code",
   "execution_count": null,
   "metadata": {},
   "outputs": [],
   "source": []
  }
 ],
 "metadata": {
  "kernelspec": {
   "display_name": "Python 3",
   "language": "python",
   "name": "python3"
  },
  "language_info": {
   "codemirror_mode": {
    "name": "ipython",
    "version": 3
   },
   "file_extension": ".py",
   "mimetype": "text/x-python",
   "name": "python",
   "nbconvert_exporter": "python",
   "pygments_lexer": "ipython3",
   "version": "3.10.3"
  }
 },
 "nbformat": 4,
 "nbformat_minor": 4
}
